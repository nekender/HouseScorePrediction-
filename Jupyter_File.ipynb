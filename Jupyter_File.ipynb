{
 "cells": [
  {
   "cell_type": "code",
   "execution_count": 17,
   "id": "59f51b2e",
   "metadata": {},
   "outputs": [],
   "source": [
    "import numpy as np\n",
    "import pandas as pd\n",
    "import matplotlib.pyplot as plt\n",
    "from sklearn.preprocessing import OneHotEncoder\n",
    "from sklearn.preprocessing import StandardScaler"
   ]
  },
  {
   "cell_type": "code",
   "execution_count": 2,
   "id": "8181e274",
   "metadata": {},
   "outputs": [],
   "source": [
    "train = pd.read_csv(\"train.csv\")\n",
    "test = pd.read_csv(\"test.csv\")"
   ]
  },
  {
   "cell_type": "code",
   "execution_count": 3,
   "id": "9f46698a",
   "metadata": {},
   "outputs": [
    {
     "data": {
      "text/plain": [
       "(39499, 15)"
      ]
     },
     "execution_count": 3,
     "metadata": {},
     "output_type": "execute_result"
    }
   ],
   "source": [
    "train.shape"
   ]
  },
  {
   "cell_type": "code",
   "execution_count": 4,
   "id": "1008f5f4",
   "metadata": {},
   "outputs": [
    {
     "data": {
      "text/plain": [
       "(10500, 14)"
      ]
     },
     "execution_count": 4,
     "metadata": {},
     "output_type": "execute_result"
    }
   ],
   "source": [
    "test.shape\n"
   ]
  },
  {
   "cell_type": "code",
   "execution_count": 5,
   "id": "4d6e304d",
   "metadata": {},
   "outputs": [
    {
     "name": "stdout",
     "output_type": "stream",
     "text": [
      "Property_ID                  0\n",
      "Property_Type                0\n",
      "Property_Area                0\n",
      "Number_of_Windows         1654\n",
      "Number_of_Doors              0\n",
      "Furnishing                1042\n",
      "Frequency_of_Powercuts    1383\n",
      "Power_Backup                 0\n",
      "Water_Supply                 0\n",
      "Traffic_Density_Score        0\n",
      "Crime_Rate                 787\n",
      "Dust_and_Noise            1219\n",
      "Air_Quality_Index            0\n",
      "Neighborhood_Review          0\n",
      "Habitability_score           0\n",
      "dtype: int64\n"
     ]
    }
   ],
   "source": [
    "print(train.isnull().sum())\n"
   ]
  },
  {
   "cell_type": "code",
   "execution_count": 6,
   "id": "8380fc94",
   "metadata": {},
   "outputs": [
    {
     "name": "stdout",
     "output_type": "stream",
     "text": [
      "Property_ID                 0\n",
      "Property_Type               0\n",
      "Property_Area               0\n",
      "Number_of_Windows         445\n",
      "Number_of_Doors             0\n",
      "Furnishing                257\n",
      "Frequency_of_Powercuts    366\n",
      "Power_Backup                0\n",
      "Water_Supply                0\n",
      "Traffic_Density_Score       0\n",
      "Crime_Rate                212\n",
      "Dust_and_Noise            330\n",
      "Air_Quality_Index           0\n",
      "Neighborhood_Review         0\n",
      "dtype: int64\n"
     ]
    }
   ],
   "source": [
    "print(test.isnull().sum())"
   ]
  },
  {
   "cell_type": "code",
   "execution_count": 9,
   "id": "75da5abc",
   "metadata": {},
   "outputs": [],
   "source": [
    "y = train.iloc[:,-1]\n",
    "train.drop(train.columns[-1],axis=1,inplace=True)"
   ]
  },
  {
   "cell_type": "code",
   "execution_count": 10,
   "id": "5741f7c2",
   "metadata": {},
   "outputs": [
    {
     "data": {
      "text/plain": [
       "(49999, 14)"
      ]
     },
     "execution_count": 10,
     "metadata": {},
     "output_type": "execute_result"
    }
   ],
   "source": [
    "final = pd.concat([train,test]) #combining both dataset \n",
    "final.reset_index(inplace=True) #resetting indexes\n",
    "final=final.iloc[:,1:]\n",
    "final.shape"
   ]
  },
  {
   "cell_type": "markdown",
   "id": "7d51f966",
   "metadata": {},
   "source": [
    "# cleaning Using KNN imputer and simple imputer"
   ]
  },
  {
   "cell_type": "code",
   "execution_count": 11,
   "id": "7de59071",
   "metadata": {},
   "outputs": [],
   "source": [
    "from sklearn.impute import SimpleImputer, KNNImputer\n"
   ]
  },
  {
   "cell_type": "code",
   "execution_count": 12,
   "id": "5393d56a",
   "metadata": {},
   "outputs": [],
   "source": [
    "impute = SimpleImputer(strategy = \"most_frequent\")\n",
    "knnimputer = KNNImputer(n_neighbors=25)"
   ]
  },
  {
   "cell_type": "code",
   "execution_count": 14,
   "id": "e9ebd24f",
   "metadata": {},
   "outputs": [],
   "source": [
    "final2 = final.iloc[:,[3,6]]\n",
    "final2 = knnimputer.fit_transform(final2)\n",
    "final2 = pd.DataFrame(final2)"
   ]
  },
  {
   "cell_type": "code",
   "execution_count": 15,
   "id": "c782500f",
   "metadata": {},
   "outputs": [],
   "source": [
    "final3 = final.iloc[:,[5,10,11]]\n",
    "final3 = impute.fit_transform(final3)\n",
    "final3 = pd.DataFrame(final3)"
   ]
  },
  {
   "cell_type": "code",
   "execution_count": 16,
   "id": "0f804e37",
   "metadata": {},
   "outputs": [],
   "source": [
    "final.iloc[:,3] = final2.iloc[:,0]\n",
    "final.iloc[:,6] = final2.iloc[:,1]\n",
    "final.iloc[:,5] = final3.iloc[:,0]\n",
    "final.iloc[:,10] = final3.iloc[:,1]\n",
    "final.iloc[:,11] = final3.iloc[:,2]"
   ]
  },
  {
   "cell_type": "code",
   "execution_count": 18,
   "id": "b4e1cc34",
   "metadata": {},
   "outputs": [],
   "source": [
    "OHE = OneHotEncoder()\n",
    "SS = StandardScaler()"
   ]
  },
  {
   "cell_type": "code",
   "execution_count": 20,
   "id": "78cb9155",
   "metadata": {},
   "outputs": [],
   "source": [
    "fin2 = final.iloc[:,[1,5,7,8,10,11]]\n",
    "fin2 = OHE.fit_transform(fin2)\n",
    "fin2 = pd.DataFrame(fin2.toarray())"
   ]
  },
  {
   "cell_type": "code",
   "execution_count": 22,
   "id": "64d67f88",
   "metadata": {},
   "outputs": [],
   "source": [
    "fin3 = final.iloc[:,[2,3,4,6,9,12,13]]\n",
    "fin3 = SS.fit_transform(fin3)\n",
    "fin3 = pd.DataFrame(fin3)"
   ]
  },
  {
   "cell_type": "code",
   "execution_count": 23,
   "id": "3dbcd2e2",
   "metadata": {},
   "outputs": [
    {
     "data": {
      "text/html": [
       "<div>\n",
       "<style scoped>\n",
       "    .dataframe tbody tr th:only-of-type {\n",
       "        vertical-align: middle;\n",
       "    }\n",
       "\n",
       "    .dataframe tbody tr th {\n",
       "        vertical-align: top;\n",
       "    }\n",
       "\n",
       "    .dataframe thead th {\n",
       "        text-align: right;\n",
       "    }\n",
       "</style>\n",
       "<table border=\"1\" class=\"dataframe\">\n",
       "  <thead>\n",
       "    <tr style=\"text-align: right;\">\n",
       "      <th></th>\n",
       "      <th>0</th>\n",
       "      <th>1</th>\n",
       "      <th>2</th>\n",
       "      <th>3</th>\n",
       "      <th>4</th>\n",
       "      <th>5</th>\n",
       "      <th>6</th>\n",
       "      <th>7</th>\n",
       "      <th>8</th>\n",
       "      <th>9</th>\n",
       "      <th>...</th>\n",
       "      <th>21</th>\n",
       "      <th>22</th>\n",
       "      <th>23</th>\n",
       "      <th>0</th>\n",
       "      <th>1</th>\n",
       "      <th>2</th>\n",
       "      <th>3</th>\n",
       "      <th>4</th>\n",
       "      <th>5</th>\n",
       "      <th>6</th>\n",
       "    </tr>\n",
       "  </thead>\n",
       "  <tbody>\n",
       "    <tr>\n",
       "      <th>0</th>\n",
       "      <td>0.0</td>\n",
       "      <td>1.0</td>\n",
       "      <td>0.0</td>\n",
       "      <td>0.0</td>\n",
       "      <td>0.0</td>\n",
       "      <td>0.0</td>\n",
       "      <td>0.0</td>\n",
       "      <td>1.0</td>\n",
       "      <td>0.0</td>\n",
       "      <td>0.0</td>\n",
       "      <td>...</td>\n",
       "      <td>0.0</td>\n",
       "      <td>0.0</td>\n",
       "      <td>1.0</td>\n",
       "      <td>-0.664983</td>\n",
       "      <td>0.194113</td>\n",
       "      <td>-1.128415</td>\n",
       "      <td>-0.651581</td>\n",
       "      <td>-0.382456</td>\n",
       "      <td>-0.510910</td>\n",
       "      <td>0.156310</td>\n",
       "    </tr>\n",
       "    <tr>\n",
       "      <th>1</th>\n",
       "      <td>0.0</td>\n",
       "      <td>1.0</td>\n",
       "      <td>0.0</td>\n",
       "      <td>0.0</td>\n",
       "      <td>0.0</td>\n",
       "      <td>0.0</td>\n",
       "      <td>0.0</td>\n",
       "      <td>0.0</td>\n",
       "      <td>1.0</td>\n",
       "      <td>0.0</td>\n",
       "      <td>...</td>\n",
       "      <td>0.0</td>\n",
       "      <td>0.0</td>\n",
       "      <td>1.0</td>\n",
       "      <td>-0.339236</td>\n",
       "      <td>-0.731735</td>\n",
       "      <td>-0.280217</td>\n",
       "      <td>0.701786</td>\n",
       "      <td>-1.629444</td>\n",
       "      <td>-0.412596</td>\n",
       "      <td>-0.233093</td>\n",
       "    </tr>\n",
       "    <tr>\n",
       "      <th>2</th>\n",
       "      <td>0.0</td>\n",
       "      <td>1.0</td>\n",
       "      <td>0.0</td>\n",
       "      <td>0.0</td>\n",
       "      <td>0.0</td>\n",
       "      <td>0.0</td>\n",
       "      <td>1.0</td>\n",
       "      <td>0.0</td>\n",
       "      <td>0.0</td>\n",
       "      <td>0.0</td>\n",
       "      <td>...</td>\n",
       "      <td>0.0</td>\n",
       "      <td>0.0</td>\n",
       "      <td>1.0</td>\n",
       "      <td>-0.337158</td>\n",
       "      <td>0.027157</td>\n",
       "      <td>-0.280217</td>\n",
       "      <td>-0.651581</td>\n",
       "      <td>0.897347</td>\n",
       "      <td>-0.002955</td>\n",
       "      <td>0.093503</td>\n",
       "    </tr>\n",
       "    <tr>\n",
       "      <th>3</th>\n",
       "      <td>0.0</td>\n",
       "      <td>1.0</td>\n",
       "      <td>0.0</td>\n",
       "      <td>0.0</td>\n",
       "      <td>0.0</td>\n",
       "      <td>0.0</td>\n",
       "      <td>0.0</td>\n",
       "      <td>0.0</td>\n",
       "      <td>1.0</td>\n",
       "      <td>0.0</td>\n",
       "      <td>...</td>\n",
       "      <td>0.0</td>\n",
       "      <td>0.0</td>\n",
       "      <td>1.0</td>\n",
       "      <td>-0.252474</td>\n",
       "      <td>-0.352289</td>\n",
       "      <td>-0.280217</td>\n",
       "      <td>2.055153</td>\n",
       "      <td>-0.160952</td>\n",
       "      <td>-0.347053</td>\n",
       "      <td>-3.009160</td>\n",
       "    </tr>\n",
       "    <tr>\n",
       "      <th>4</th>\n",
       "      <td>0.0</td>\n",
       "      <td>0.0</td>\n",
       "      <td>1.0</td>\n",
       "      <td>0.0</td>\n",
       "      <td>0.0</td>\n",
       "      <td>0.0</td>\n",
       "      <td>1.0</td>\n",
       "      <td>0.0</td>\n",
       "      <td>0.0</td>\n",
       "      <td>0.0</td>\n",
       "      <td>...</td>\n",
       "      <td>0.0</td>\n",
       "      <td>0.0</td>\n",
       "      <td>1.0</td>\n",
       "      <td>0.442659</td>\n",
       "      <td>3.821617</td>\n",
       "      <td>3.112578</td>\n",
       "      <td>-0.651581</td>\n",
       "      <td>-0.735222</td>\n",
       "      <td>-0.084883</td>\n",
       "      <td>1.299397</td>\n",
       "    </tr>\n",
       "    <tr>\n",
       "      <th>...</th>\n",
       "      <td>...</td>\n",
       "      <td>...</td>\n",
       "      <td>...</td>\n",
       "      <td>...</td>\n",
       "      <td>...</td>\n",
       "      <td>...</td>\n",
       "      <td>...</td>\n",
       "      <td>...</td>\n",
       "      <td>...</td>\n",
       "      <td>...</td>\n",
       "      <td>...</td>\n",
       "      <td>...</td>\n",
       "      <td>...</td>\n",
       "      <td>...</td>\n",
       "      <td>...</td>\n",
       "      <td>...</td>\n",
       "      <td>...</td>\n",
       "      <td>...</td>\n",
       "      <td>...</td>\n",
       "      <td>...</td>\n",
       "      <td>...</td>\n",
       "    </tr>\n",
       "    <tr>\n",
       "      <th>49994</th>\n",
       "      <td>0.0</td>\n",
       "      <td>1.0</td>\n",
       "      <td>0.0</td>\n",
       "      <td>0.0</td>\n",
       "      <td>0.0</td>\n",
       "      <td>0.0</td>\n",
       "      <td>0.0</td>\n",
       "      <td>0.0</td>\n",
       "      <td>1.0</td>\n",
       "      <td>0.0</td>\n",
       "      <td>...</td>\n",
       "      <td>0.0</td>\n",
       "      <td>0.0</td>\n",
       "      <td>1.0</td>\n",
       "      <td>-0.220783</td>\n",
       "      <td>0.194113</td>\n",
       "      <td>0.567982</td>\n",
       "      <td>-0.651581</td>\n",
       "      <td>-0.751630</td>\n",
       "      <td>-0.445367</td>\n",
       "      <td>-0.233093</td>\n",
       "    </tr>\n",
       "    <tr>\n",
       "      <th>49995</th>\n",
       "      <td>0.0</td>\n",
       "      <td>0.0</td>\n",
       "      <td>0.0</td>\n",
       "      <td>1.0</td>\n",
       "      <td>0.0</td>\n",
       "      <td>0.0</td>\n",
       "      <td>0.0</td>\n",
       "      <td>1.0</td>\n",
       "      <td>0.0</td>\n",
       "      <td>0.0</td>\n",
       "      <td>...</td>\n",
       "      <td>0.0</td>\n",
       "      <td>0.0</td>\n",
       "      <td>1.0</td>\n",
       "      <td>-0.573545</td>\n",
       "      <td>-1.111181</td>\n",
       "      <td>-0.280217</td>\n",
       "      <td>3.408519</td>\n",
       "      <td>0.298465</td>\n",
       "      <td>-0.248740</td>\n",
       "      <td>-1.049583</td>\n",
       "    </tr>\n",
       "    <tr>\n",
       "      <th>49996</th>\n",
       "      <td>0.0</td>\n",
       "      <td>0.0</td>\n",
       "      <td>0.0</td>\n",
       "      <td>0.0</td>\n",
       "      <td>1.0</td>\n",
       "      <td>0.0</td>\n",
       "      <td>1.0</td>\n",
       "      <td>0.0</td>\n",
       "      <td>0.0</td>\n",
       "      <td>0.0</td>\n",
       "      <td>...</td>\n",
       "      <td>1.0</td>\n",
       "      <td>0.0</td>\n",
       "      <td>0.0</td>\n",
       "      <td>13.538502</td>\n",
       "      <td>0.194113</td>\n",
       "      <td>-0.280217</td>\n",
       "      <td>-0.651581</td>\n",
       "      <td>2.398655</td>\n",
       "      <td>0.455842</td>\n",
       "      <td>0.357292</td>\n",
       "    </tr>\n",
       "    <tr>\n",
       "      <th>49997</th>\n",
       "      <td>0.0</td>\n",
       "      <td>0.0</td>\n",
       "      <td>0.0</td>\n",
       "      <td>0.0</td>\n",
       "      <td>0.0</td>\n",
       "      <td>1.0</td>\n",
       "      <td>0.0</td>\n",
       "      <td>0.0</td>\n",
       "      <td>1.0</td>\n",
       "      <td>0.0</td>\n",
       "      <td>...</td>\n",
       "      <td>0.0</td>\n",
       "      <td>0.0</td>\n",
       "      <td>1.0</td>\n",
       "      <td>0.033788</td>\n",
       "      <td>-0.731735</td>\n",
       "      <td>0.567982</td>\n",
       "      <td>0.701786</td>\n",
       "      <td>-0.087117</td>\n",
       "      <td>0.160901</td>\n",
       "      <td>-0.308461</td>\n",
       "    </tr>\n",
       "    <tr>\n",
       "      <th>49998</th>\n",
       "      <td>0.0</td>\n",
       "      <td>1.0</td>\n",
       "      <td>0.0</td>\n",
       "      <td>0.0</td>\n",
       "      <td>0.0</td>\n",
       "      <td>0.0</td>\n",
       "      <td>0.0</td>\n",
       "      <td>1.0</td>\n",
       "      <td>0.0</td>\n",
       "      <td>0.0</td>\n",
       "      <td>...</td>\n",
       "      <td>0.0</td>\n",
       "      <td>0.0</td>\n",
       "      <td>1.0</td>\n",
       "      <td>-0.419764</td>\n",
       "      <td>0.194113</td>\n",
       "      <td>-1.128415</td>\n",
       "      <td>-0.651581</td>\n",
       "      <td>-0.308621</td>\n",
       "      <td>-0.150426</td>\n",
       "      <td>0.520591</td>\n",
       "    </tr>\n",
       "  </tbody>\n",
       "</table>\n",
       "<p>49999 rows × 31 columns</p>\n",
       "</div>"
      ],
      "text/plain": [
       "        0    1    2    3    4    5    6    7    8    9   ...   21   22   23  \\\n",
       "0      0.0  1.0  0.0  0.0  0.0  0.0  0.0  1.0  0.0  0.0  ...  0.0  0.0  1.0   \n",
       "1      0.0  1.0  0.0  0.0  0.0  0.0  0.0  0.0  1.0  0.0  ...  0.0  0.0  1.0   \n",
       "2      0.0  1.0  0.0  0.0  0.0  0.0  1.0  0.0  0.0  0.0  ...  0.0  0.0  1.0   \n",
       "3      0.0  1.0  0.0  0.0  0.0  0.0  0.0  0.0  1.0  0.0  ...  0.0  0.0  1.0   \n",
       "4      0.0  0.0  1.0  0.0  0.0  0.0  1.0  0.0  0.0  0.0  ...  0.0  0.0  1.0   \n",
       "...    ...  ...  ...  ...  ...  ...  ...  ...  ...  ...  ...  ...  ...  ...   \n",
       "49994  0.0  1.0  0.0  0.0  0.0  0.0  0.0  0.0  1.0  0.0  ...  0.0  0.0  1.0   \n",
       "49995  0.0  0.0  0.0  1.0  0.0  0.0  0.0  1.0  0.0  0.0  ...  0.0  0.0  1.0   \n",
       "49996  0.0  0.0  0.0  0.0  1.0  0.0  1.0  0.0  0.0  0.0  ...  1.0  0.0  0.0   \n",
       "49997  0.0  0.0  0.0  0.0  0.0  1.0  0.0  0.0  1.0  0.0  ...  0.0  0.0  1.0   \n",
       "49998  0.0  1.0  0.0  0.0  0.0  0.0  0.0  1.0  0.0  0.0  ...  0.0  0.0  1.0   \n",
       "\n",
       "              0         1         2         3         4         5         6   \n",
       "0      -0.664983  0.194113 -1.128415 -0.651581 -0.382456 -0.510910  0.156310  \n",
       "1      -0.339236 -0.731735 -0.280217  0.701786 -1.629444 -0.412596 -0.233093  \n",
       "2      -0.337158  0.027157 -0.280217 -0.651581  0.897347 -0.002955  0.093503  \n",
       "3      -0.252474 -0.352289 -0.280217  2.055153 -0.160952 -0.347053 -3.009160  \n",
       "4       0.442659  3.821617  3.112578 -0.651581 -0.735222 -0.084883  1.299397  \n",
       "...          ...       ...       ...       ...       ...       ...       ...  \n",
       "49994  -0.220783  0.194113  0.567982 -0.651581 -0.751630 -0.445367 -0.233093  \n",
       "49995  -0.573545 -1.111181 -0.280217  3.408519  0.298465 -0.248740 -1.049583  \n",
       "49996  13.538502  0.194113 -0.280217 -0.651581  2.398655  0.455842  0.357292  \n",
       "49997   0.033788 -0.731735  0.567982  0.701786 -0.087117  0.160901 -0.308461  \n",
       "49998  -0.419764  0.194113 -1.128415 -0.651581 -0.308621 -0.150426  0.520591  \n",
       "\n",
       "[49999 rows x 31 columns]"
      ]
     },
     "execution_count": 23,
     "metadata": {},
     "output_type": "execute_result"
    }
   ],
   "source": [
    "final = pd.concat([fin2,fin3],axis=1)\n",
    "final"
   ]
  },
  {
   "cell_type": "code",
   "execution_count": 25,
   "id": "da137539",
   "metadata": {},
   "outputs": [],
   "source": [
    "final.columns=[a for a in range(0,len(final.columns))]\n",
    "train=final[:39499]\n",
    "test=final[39499:]"
   ]
  },
  {
   "cell_type": "code",
   "execution_count": 28,
   "id": "9d85898b",
   "metadata": {},
   "outputs": [],
   "source": [
    "def myregressor(x_train,x_test,y_train):\n",
    "    rfr = RandomForestRegressor()\n",
    "    rfr.fit(x_train,y_train)\n",
    "    p= rfr.predict(x_test)\n",
    "    return p\n"
   ]
  },
  {
   "cell_type": "code",
   "execution_count": 31,
   "id": "edbdcb2a",
   "metadata": {},
   "outputs": [],
   "source": [
    "p= myregressor(train,test,y)"
   ]
  },
  {
   "cell_type": "code",
   "execution_count": 32,
   "id": "da740b8c",
   "metadata": {},
   "outputs": [
    {
     "data": {
      "text/html": [
       "<div>\n",
       "<style scoped>\n",
       "    .dataframe tbody tr th:only-of-type {\n",
       "        vertical-align: middle;\n",
       "    }\n",
       "\n",
       "    .dataframe tbody tr th {\n",
       "        vertical-align: top;\n",
       "    }\n",
       "\n",
       "    .dataframe thead th {\n",
       "        text-align: right;\n",
       "    }\n",
       "</style>\n",
       "<table border=\"1\" class=\"dataframe\">\n",
       "  <thead>\n",
       "    <tr style=\"text-align: right;\">\n",
       "      <th></th>\n",
       "      <th>Property_ID</th>\n",
       "      <th>Habitability_score</th>\n",
       "    </tr>\n",
       "  </thead>\n",
       "  <tbody>\n",
       "    <tr>\n",
       "      <th>0</th>\n",
       "      <td>0x6e93</td>\n",
       "      <td>29.9360</td>\n",
       "    </tr>\n",
       "    <tr>\n",
       "      <th>1</th>\n",
       "      <td>0x8787</td>\n",
       "      <td>81.6540</td>\n",
       "    </tr>\n",
       "    <tr>\n",
       "      <th>2</th>\n",
       "      <td>0x6c17</td>\n",
       "      <td>67.1501</td>\n",
       "    </tr>\n",
       "    <tr>\n",
       "      <th>3</th>\n",
       "      <td>0x9dbd</td>\n",
       "      <td>74.9244</td>\n",
       "    </tr>\n",
       "    <tr>\n",
       "      <th>4</th>\n",
       "      <td>0xbfde</td>\n",
       "      <td>75.6296</td>\n",
       "    </tr>\n",
       "    <tr>\n",
       "      <th>...</th>\n",
       "      <td>...</td>\n",
       "      <td>...</td>\n",
       "    </tr>\n",
       "    <tr>\n",
       "      <th>10495</th>\n",
       "      <td>0x423d</td>\n",
       "      <td>64.5696</td>\n",
       "    </tr>\n",
       "    <tr>\n",
       "      <th>10496</th>\n",
       "      <td>0x78c5</td>\n",
       "      <td>81.0448</td>\n",
       "    </tr>\n",
       "    <tr>\n",
       "      <th>10497</th>\n",
       "      <td>0xbf3</td>\n",
       "      <td>74.3075</td>\n",
       "    </tr>\n",
       "    <tr>\n",
       "      <th>10498</th>\n",
       "      <td>0x305b</td>\n",
       "      <td>79.5100</td>\n",
       "    </tr>\n",
       "    <tr>\n",
       "      <th>10499</th>\n",
       "      <td>0x5cff</td>\n",
       "      <td>79.4904</td>\n",
       "    </tr>\n",
       "  </tbody>\n",
       "</table>\n",
       "<p>10500 rows × 2 columns</p>\n",
       "</div>"
      ],
      "text/plain": [
       "      Property_ID  Habitability_score\n",
       "0          0x6e93             29.9360\n",
       "1          0x8787             81.6540\n",
       "2          0x6c17             67.1501\n",
       "3          0x9dbd             74.9244\n",
       "4          0xbfde             75.6296\n",
       "...           ...                 ...\n",
       "10495      0x423d             64.5696\n",
       "10496      0x78c5             81.0448\n",
       "10497       0xbf3             74.3075\n",
       "10498      0x305b             79.5100\n",
       "10499      0x5cff             79.4904\n",
       "\n",
       "[10500 rows x 2 columns]"
      ]
     },
     "execution_count": 32,
     "metadata": {},
     "output_type": "execute_result"
    }
   ],
   "source": [
    "t2 = pd.read_csv(\"test.csv\")\n",
    "id = t2.iloc[:,0]\n",
    "GetARoom= pd.DataFrame({\"Property_ID\":id,\"Habitability_score\":p})\n",
    "GetARoom.to_csv(\"submit.csv\",index=False)\n",
    "pd.read_csv(\"submit.csv\")"
   ]
  },
  {
   "cell_type": "code",
   "execution_count": 2,
   "id": "25def2fb",
   "metadata": {},
   "outputs": [
    {
     "ename": "ModuleNotFoundError",
     "evalue": "No module named 'tensorflow'",
     "output_type": "error",
     "traceback": [
      "\u001b[1;31m---------------------------------------------------------------------------\u001b[0m",
      "\u001b[1;31mModuleNotFoundError\u001b[0m                       Traceback (most recent call last)",
      "Input \u001b[1;32mIn [2]\u001b[0m, in \u001b[0;36m<cell line: 1>\u001b[1;34m()\u001b[0m\n\u001b[1;32m----> 1\u001b[0m \u001b[38;5;28;01mfrom\u001b[39;00m \u001b[38;5;21;01mkeras\u001b[39;00m\u001b[38;5;21;01m.\u001b[39;00m\u001b[38;5;21;01mmodels\u001b[39;00m \u001b[38;5;28;01mimport\u001b[39;00m Sequential\n\u001b[0;32m      2\u001b[0m \u001b[38;5;28;01mfrom\u001b[39;00m \u001b[38;5;21;01mkeras\u001b[39;00m\u001b[38;5;21;01m.\u001b[39;00m\u001b[38;5;21;01mlayers\u001b[39;00m \u001b[38;5;28;01mimport\u001b[39;00m Dense\n\u001b[0;32m      3\u001b[0m \u001b[38;5;28;01mfrom\u001b[39;00m \u001b[38;5;21;01mtensorflow\u001b[39;00m\u001b[38;5;21;01m.\u001b[39;00m\u001b[38;5;21;01mkeras\u001b[39;00m\u001b[38;5;21;01m.\u001b[39;00m\u001b[38;5;21;01moptimizers\u001b[39;00m \u001b[38;5;28;01mimport\u001b[39;00m Adam\n",
      "File \u001b[1;32m~\\anaconda3.x\\lib\\site-packages\\keras\\__init__.py:21\u001b[0m, in \u001b[0;36m<module>\u001b[1;34m\u001b[0m\n\u001b[0;32m     15\u001b[0m \u001b[38;5;124;03m\"\"\"Implementation of the Keras API, the high-level API of TensorFlow.\u001b[39;00m\n\u001b[0;32m     16\u001b[0m \n\u001b[0;32m     17\u001b[0m \u001b[38;5;124;03mDetailed documentation and user guides are available at\u001b[39;00m\n\u001b[0;32m     18\u001b[0m \u001b[38;5;124;03m[keras.io](https://keras.io).\u001b[39;00m\n\u001b[0;32m     19\u001b[0m \u001b[38;5;124;03m\"\"\"\u001b[39;00m\n\u001b[0;32m     20\u001b[0m \u001b[38;5;66;03m# pylint: disable=unused-import\u001b[39;00m\n\u001b[1;32m---> 21\u001b[0m \u001b[38;5;28;01mfrom\u001b[39;00m \u001b[38;5;21;01mtensorflow\u001b[39;00m\u001b[38;5;21;01m.\u001b[39;00m\u001b[38;5;21;01mpython\u001b[39;00m \u001b[38;5;28;01mimport\u001b[39;00m tf2\n\u001b[0;32m     22\u001b[0m \u001b[38;5;28;01mfrom\u001b[39;00m \u001b[38;5;21;01mkeras\u001b[39;00m \u001b[38;5;28;01mimport\u001b[39;00m distribute\n\u001b[0;32m     24\u001b[0m \u001b[38;5;66;03m# See b/110718070#comment18 for more details about this import.\u001b[39;00m\n",
      "\u001b[1;31mModuleNotFoundError\u001b[0m: No module named 'tensorflow'"
     ]
    }
   ],
   "source": [
    "from keras.models import Sequential\n",
    "from keras.layers import Dense\n",
    "from tensorflow.keras.optimizers import Adam"
   ]
  },
  {
   "cell_type": "code",
   "execution_count": null,
   "id": "3e5e897b",
   "metadata": {},
   "outputs": [],
   "source": []
  }
 ],
 "metadata": {
  "kernelspec": {
   "display_name": "Python 3 (ipykernel)",
   "language": "python",
   "name": "python3"
  },
  "language_info": {
   "codemirror_mode": {
    "name": "ipython",
    "version": 3
   },
   "file_extension": ".py",
   "mimetype": "text/x-python",
   "name": "python",
   "nbconvert_exporter": "python",
   "pygments_lexer": "ipython3",
   "version": "3.9.12"
  }
 },
 "nbformat": 4,
 "nbformat_minor": 5
}
